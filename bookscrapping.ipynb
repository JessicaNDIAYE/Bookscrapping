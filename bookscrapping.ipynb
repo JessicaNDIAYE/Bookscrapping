{
 "cells": [
  {
   "cell_type": "markdown",
   "id": "1d98f65c",
   "metadata": {},
   "source": [
    "# Analyze Best Selling Amazon Books with Pandas"
   ]
  },
  {
   "cell_type": "code",
   "execution_count": 19,
   "id": "95c3be73",
   "metadata": {},
   "outputs": [],
   "source": [
    "import pandas as pd\n"
   ]
  },
  {
   "cell_type": "code",
   "execution_count": 20,
   "id": "693ec33d",
   "metadata": {},
   "outputs": [],
   "source": [
    "df = pd.read_csv(\"bestsellers.csv\")"
   ]
  },
  {
   "cell_type": "code",
   "execution_count": 21,
   "id": "36870c4d",
   "metadata": {},
   "outputs": [
    {
     "name": "stdout",
     "output_type": "stream",
     "text": [
      "                                                Name  \\\n",
      "0                      10-Day Green Smoothie Cleanse   \n",
      "1                                  11/22/63: A Novel   \n",
      "2            12 Rules for Life: An Antidote to Chaos   \n",
      "3                             1984 (Signet Classics)   \n",
      "4  5,000 Awesome Facts (About Everything!) (Natio...   \n",
      "\n",
      "                     Author  User Rating  Reviews  Price  Year        Genre  \n",
      "0                  JJ Smith          4.7    17350      8  2016  Non Fiction  \n",
      "1              Stephen King          4.6     2052     22  2011      Fiction  \n",
      "2        Jordan B. Peterson          4.7    18979     15  2018  Non Fiction  \n",
      "3             George Orwell          4.7    21424      6  2017      Fiction  \n",
      "4  National Geographic Kids          4.8     7665     12  2019  Non Fiction  \n"
     ]
    }
   ],
   "source": [
    "print(df.head())\n",
    "\n"
   ]
  },
  {
   "cell_type": "code",
   "execution_count": 22,
   "id": "4eca3993",
   "metadata": {},
   "outputs": [
    {
     "name": "stdout",
     "output_type": "stream",
     "text": [
      "(550, 7)\n"
     ]
    }
   ],
   "source": [
    "print(df.shape)"
   ]
  },
  {
   "cell_type": "code",
   "execution_count": 23,
   "id": "a56bdba0",
   "metadata": {},
   "outputs": [
    {
     "name": "stdout",
     "output_type": "stream",
     "text": [
      "Index(['Name', 'Author', 'User Rating', 'Reviews', 'Price', 'Year', 'Genre'], dtype='object')\n"
     ]
    }
   ],
   "source": [
    "print(df.columns)"
   ]
  },
  {
   "cell_type": "code",
   "execution_count": 24,
   "id": "abf1e67e",
   "metadata": {},
   "outputs": [
    {
     "name": "stdout",
     "output_type": "stream",
     "text": [
      "       User Rating       Reviews       Price         Year\n",
      "count   550.000000    550.000000  550.000000   550.000000\n",
      "mean      4.618364  11953.281818   13.100000  2014.000000\n",
      "std       0.226980  11731.132017   10.842262     3.165156\n",
      "min       3.300000     37.000000    0.000000  2009.000000\n",
      "25%       4.500000   4058.000000    7.000000  2011.000000\n",
      "50%       4.700000   8580.000000   11.000000  2014.000000\n",
      "75%       4.800000  17253.250000   16.000000  2017.000000\n",
      "max       4.900000  87841.000000  105.000000  2019.000000\n"
     ]
    }
   ],
   "source": [
    "print(df.describe())\n",
    "#Pour afficher les statistiques descriptives des colonnes numériques du DataFrame."
   ]
  },
  {
   "cell_type": "code",
   "execution_count": 25,
   "id": "56bfaf92",
   "metadata": {},
   "outputs": [],
   "source": [
    "# Nettoyage des données\n",
    "\n",
    "#Suppression des doublons\n",
    "df.drop_duplicates(inplace=True)"
   ]
  },
  {
   "cell_type": "code",
   "execution_count": 26,
   "id": "a52e3b17",
   "metadata": {},
   "outputs": [],
   "source": [
    "#nommage des colonnes\n",
    "df.rename(columns={\"Name\": \"Title\", \"Year\": \"Publication Year\", \"User Rating\": \"Rating\"}, inplace=True)"
   ]
  },
  {
   "cell_type": "code",
   "execution_count": 27,
   "id": "f51cea81",
   "metadata": {},
   "outputs": [],
   "source": [
    "#Conversion des types de données en float \n",
    "df[\"Price\"] = df[\"Price\"].astype(float)"
   ]
  },
  {
   "cell_type": "markdown",
   "id": "711ef9bc",
   "metadata": {},
   "source": [
    "# ANALYSE \n"
   ]
  },
  {
   "cell_type": "code",
   "execution_count": 28,
   "id": "32b73cf3",
   "metadata": {},
   "outputs": [
    {
     "name": "stdout",
     "output_type": "stream",
     "text": [
      "Author\n",
      "Jeff Kinney                           12\n",
      "Gary Chapman                          11\n",
      "Rick Riordan                          11\n",
      "Suzanne Collins                       11\n",
      "American Psychological Association    10\n",
      "                                      ..\n",
      "Keith Richards                         1\n",
      "Chris Cleave                           1\n",
      "Alice Schertle                         1\n",
      "Celeste Ng                             1\n",
      "Adam Gasiewski                         1\n",
      "Name: count, Length: 248, dtype: int64\n"
     ]
    }
   ],
   "source": [
    "#Popularité des autheurs \n",
    "author_counts = df['Author'].value_counts()\n",
    "print(author_counts)"
   ]
  },
  {
   "cell_type": "code",
   "execution_count": 29,
   "id": "508f8ba1",
   "metadata": {},
   "outputs": [
    {
     "name": "stdout",
     "output_type": "stream",
     "text": [
      "Genre\n",
      "Fiction        4.648333\n",
      "Non Fiction    4.595161\n",
      "Name: Rating, dtype: float64\n"
     ]
    }
   ],
   "source": [
    "avg_rating_by_genre = df.groupby(\"Genre\")[\"Rating\"].mean()\n",
    "print(avg_rating_by_genre)"
   ]
  },
  {
   "cell_type": "code",
   "execution_count": 30,
   "id": "0500c37f",
   "metadata": {},
   "outputs": [],
   "source": [
    "# Export top selling authors to a CSV file\n",
    "author_counts.head(10).to_csv(\"top_authors.csv\")\n",
    "\n",
    "# Export average rating by genre to a CSV file\n",
    "avg_rating_by_genre.to_csv(\"avg_rating_by_genre.csv\")"
   ]
  }
 ],
 "metadata": {
  "kernelspec": {
   "display_name": "base",
   "language": "python",
   "name": "python3"
  },
  "language_info": {
   "codemirror_mode": {
    "name": "ipython",
    "version": 3
   },
   "file_extension": ".py",
   "mimetype": "text/x-python",
   "name": "python",
   "nbconvert_exporter": "python",
   "pygments_lexer": "ipython3",
   "version": "3.12.7"
  }
 },
 "nbformat": 4,
 "nbformat_minor": 5
}
