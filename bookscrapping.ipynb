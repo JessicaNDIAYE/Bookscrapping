{
 "cells": [
  {
   "cell_type": "markdown",
   "id": "1d98f65c",
   "metadata": {},
   "source": [
    "# Analyze Best Selling Amazon Books with Pandas"
   ]
  },
  {
   "cell_type": "code",
   "execution_count": null,
   "id": "95c3be73",
   "metadata": {},
   "outputs": [],
   "source": []
  }
 ],
 "metadata": {
  "language_info": {
   "name": "python"
  }
 },
 "nbformat": 4,
 "nbformat_minor": 5
}
